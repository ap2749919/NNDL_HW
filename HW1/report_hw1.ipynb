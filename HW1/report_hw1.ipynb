{
 "cells": [
  {
   "cell_type": "markdown",
   "metadata": {},
   "source": [
    "### 神经网络与深度学习 HW1\n",
    "\n",
    "**贾睿囡 23210980045**\n",
    "\n",
    "**github 链接**: https://github.com/ap2749919/NNDL_HW/tree/main HW1\n",
    "\n",
    "**权重Google Drive链接**: https://drive.google.com/file/d/1yP7DAMgZed4yuP0cxcFLAQypqE8kNOQD/view?usp=share_link"
   ]
  },
  {
   "cell_type": "markdown",
   "metadata": {},
   "source": [
    "报告中除对模型、数据集和实验结果的基本介绍外，还应可视化训练过程中在训练集和验证集上的loss曲线和验证集上的accuracy曲线；\n",
    "（2） 报告中需包含对训练好的模型网络参数的可视化，并观察其中的模式；"
   ]
  },
  {
   "cell_type": "markdown",
   "metadata": {},
   "source": [
    "#### 模型\n",
    "使用的模型为一个三层的神经网络模型, 包括一个输入层、一个隐藏层和一个输出层, 参数设置主要有: 隐藏层数(默认100), 激活函数(relu与sigmoid, 默认relu), 损失函数(交叉熵损失函数), 学习率(默认0.01), 正则化参数(L2正则, 默认0.001), 批数量(32)\n",
    "\n",
    "#### 数据集\n",
    "使用Fashion-MNIST数据集, 主要信息包括:\n",
    "图像尺寸: 每个图像都是28x28像素的灰度图。\n",
    "类别数量: 共有10个类别，包括T恤/上衣、裤子、套头衫、连衣裙、外套、凉鞋、衬衫、运动鞋、包和踝靴。\n",
    "数据集大小: 包含60000个训练样本和10000个测试样本。"
   ]
  },
  {
   "cell_type": "markdown",
   "metadata": {},
   "source": [
    "#### 参数搜索\n",
    "在一下参数中寻找最佳搭配, 参考指标为验证集loss, epochs=30;\n",
    "learning_rates = [0.001, 0.01, 0.1]\n",
    "hidden_sizes = [50, 100, 150]\n",
    "regularization_strengths = [0.0001, 0.001, 0.01]\n",
    "不同参数组合对应loss见tuning_result.txt\n",
    "\n",
    "\n",
    "最终选择参数为:\n",
    "learning_rates = 0.001\n",
    "hidden_sizes = 150\n",
    "regularization_strengths = 0.0001\n"
   ]
  },
  {
   "cell_type": "markdown",
   "metadata": {},
   "source": [
    "#### loss与accuracy曲线\n",
    "使用参数搜索得到的最佳参数在训练集与验证集上进行训练, epochs=50, 并可视化训练过程中的loss/accuracy曲线；\n",
    "![loss and accuracy](loss_auc.png)"
   ]
  },
  {
   "cell_type": "markdown",
   "metadata": {},
   "source": [
    "#### 测试结果\n",
    "Test Accuracy: 0.8821"
   ]
  },
  {
   "cell_type": "markdown",
   "metadata": {},
   "source": [
    "#### 模型网络参数的可视化\n",
    "使用全部训练集训练得到最终的预测模型, 将最佳模型权重存储在best_model_weights.npz中, 对参数进行可视化: \n",
    "![Weights](weights.png)"
   ]
  },
  {
   "cell_type": "markdown",
   "metadata": {},
   "source": [
    "1. 颜色图案: 颜色的变化表示权重值\n",
    "亮黄色/绿色区域: 这些区域具有较高的正权重，对神经元激活产生积极影响的特征;\n",
    "深蓝色/紫色区域：这些是具有较低(较负)值的权重，对神经元激活具有抑制作用的特征.\n",
    "\n",
    "2. 特征检测: 每个子图都可以视为一个特征检测器\n",
    "主要具有明亮区域的神经元可能会检测物体的特定图案、纹理或部分(如鞋子的边缘、包的带子或衣服接缝);\n",
    "散布在周围较暗区域的神经元可以识别某些特征的缺失或专注于背景区域.\n",
    "\n",
    "3. 特定模式\n",
    "有明显类似于衣服或配饰的不同形状或排列方式(如靴子的轮廓、包的圆形等), 这些神经元更可能正在学习识别这些特定物品;\n",
    "一些神经元可能没有显示出清晰的模式, 可能正在捕获更抽象更难以解释的特征.\n"
   ]
  }
 ],
 "metadata": {
  "kernelspec": {
   "display_name": "base",
   "language": "python",
   "name": "python3"
  },
  "language_info": {
   "codemirror_mode": {
    "name": "ipython",
    "version": 3
   },
   "file_extension": ".py",
   "mimetype": "text/x-python",
   "name": "python",
   "nbconvert_exporter": "python",
   "pygments_lexer": "ipython3",
   "version": "3.11.3"
  }
 },
 "nbformat": 4,
 "nbformat_minor": 2
}
